{
 "cells": [
  {
   "cell_type": "code",
   "execution_count": 1,
   "id": "d13c4f87",
   "metadata": {},
   "outputs": [],
   "source": [
    "from experiment.session import get_standard_experiment_session\n",
    "from sequence.configuration import SequenceConfig\n",
    "from sequence.runtime import Sequence"
   ]
  },
  {
   "cell_type": "code",
   "execution_count": 24,
   "id": "dad83ae0",
   "metadata": {},
   "outputs": [],
   "source": [
    "session = get_standard_experiment_session()\n",
    "sequence = Sequence(\"test.test\")\n",
    "\n",
    "with session:\n",
    "    sequence_config = sequence.get_config(session)"
   ]
  },
  {
   "cell_type": "code",
   "execution_count": 25,
   "id": "f5732bdc",
   "metadata": {},
   "outputs": [],
   "source": [
    "with open(\"./configs/sequence_configs/test.yaml\", \"w\") as file:\n",
    "    file.write(sequence_config.to_yaml())"
   ]
  },
  {
   "cell_type": "code",
   "execution_count": 26,
   "id": "857cbd1b",
   "metadata": {},
   "outputs": [],
   "source": [
    "with open(\"configs/sequence_configs/test.yaml\", \"r\") as file:\n",
    "    yaml = file.read()\n",
    "    \n",
    "new_sequence_config = SequenceConfig.from_yaml(yaml)\n",
    "with session:\n",
    "    sequence.set_config(new_sequence_config, session)"
   ]
  }
 ],
 "metadata": {
  "kernelspec": {
   "display_name": "Python 3 (ipykernel)",
   "language": "python",
   "name": "python3"
  },
  "language_info": {
   "codemirror_mode": {
    "name": "ipython",
    "version": 3
   },
   "file_extension": ".py",
   "mimetype": "text/x-python",
   "name": "python",
   "nbconvert_exporter": "python",
   "pygments_lexer": "ipython3",
   "version": "3.11.1"
  }
 },
 "nbformat": 4,
 "nbformat_minor": 5
}
