{
 "cells": [
  {
   "cell_type": "code",
   "execution_count": 1,
   "id": "e9793b6f",
   "metadata": {},
   "outputs": [],
   "source": [
    "import sqlalchemy_utils"
   ]
  },
  {
   "cell_type": "code",
   "execution_count": 2,
   "id": "d7b19c46",
   "metadata": {},
   "outputs": [
    {
     "ename": "TypeError",
     "evalue": "This method accepts only Session, Engine, Connection and declarative model objects.",
     "output_type": "error",
     "traceback": [
      "\u001b[1;31m---------------------------------------------------------------------------\u001b[0m",
      "\u001b[1;31mTypeError\u001b[0m                                 Traceback (most recent call last)",
      "Cell \u001b[1;32mIn[2], line 1\u001b[0m\n\u001b[1;32m----> 1\u001b[0m \u001b[43msqlalchemy_utils\u001b[49m\u001b[38;5;241;43m.\u001b[39;49m\u001b[43mcreate_database\u001b[49m\u001b[43m(\u001b[49m\u001b[38;5;124;43m\"\u001b[39;49m\u001b[38;5;124;43mpostgresql+psycopg2://caqtus@localhost/test_database\u001b[39;49m\u001b[38;5;124;43m\"\u001b[39;49m\u001b[43m)\u001b[49m\n",
      "File \u001b[1;32m~\\AppData\\Local\\pypoetry\\Cache\\virtualenvs\\sequence-runtime-KLYiVDKf-py3.11\\Lib\\site-packages\\sqlalchemy_utils\\functions\\database.py:569\u001b[0m, in \u001b[0;36mcreate_database\u001b[1;34m(url, encoding, template)\u001b[0m\n\u001b[0;32m    565\u001b[0m \u001b[38;5;28;01mif\u001b[39;00m \u001b[38;5;129;01mnot\u001b[39;00m template:\n\u001b[0;32m    566\u001b[0m     template \u001b[38;5;241m=\u001b[39m \u001b[38;5;124m'\u001b[39m\u001b[38;5;124mtemplate1\u001b[39m\u001b[38;5;124m'\u001b[39m\n\u001b[0;32m    568\u001b[0m text \u001b[38;5;241m=\u001b[39m \u001b[38;5;124m\"\u001b[39m\u001b[38;5;124mCREATE DATABASE \u001b[39m\u001b[38;5;132;01m{}\u001b[39;00m\u001b[38;5;124m ENCODING \u001b[39m\u001b[38;5;124m'\u001b[39m\u001b[38;5;132;01m{}\u001b[39;00m\u001b[38;5;124m'\u001b[39m\u001b[38;5;124m TEMPLATE \u001b[39m\u001b[38;5;132;01m{}\u001b[39;00m\u001b[38;5;124m\"\u001b[39m\u001b[38;5;241m.\u001b[39mformat(\n\u001b[1;32m--> 569\u001b[0m     \u001b[43mquote\u001b[49m\u001b[43m(\u001b[49m\u001b[43mengine\u001b[49m\u001b[43m,\u001b[49m\u001b[43m \u001b[49m\u001b[43mdatabase\u001b[49m\u001b[43m)\u001b[49m,\n\u001b[0;32m    570\u001b[0m     encoding,\n\u001b[0;32m    571\u001b[0m     quote(engine, template)\n\u001b[0;32m    572\u001b[0m )\n\u001b[0;32m    574\u001b[0m \u001b[38;5;28;01mwith\u001b[39;00m engine\u001b[38;5;241m.\u001b[39mbegin() \u001b[38;5;28;01mas\u001b[39;00m connection:\n\u001b[0;32m    575\u001b[0m     connection\u001b[38;5;241m.\u001b[39mexecute(sa\u001b[38;5;241m.\u001b[39mtext(text))\n",
      "File \u001b[1;32m~\\AppData\\Local\\pypoetry\\Cache\\virtualenvs\\sequence-runtime-KLYiVDKf-py3.11\\Lib\\site-packages\\sqlalchemy_utils\\functions\\orm.py:528\u001b[0m, in \u001b[0;36mquote\u001b[1;34m(mixed, ident)\u001b[0m\n\u001b[0;32m    526\u001b[0m     dialect \u001b[38;5;241m=\u001b[39m mixed\n\u001b[0;32m    527\u001b[0m \u001b[38;5;28;01melse\u001b[39;00m:\n\u001b[1;32m--> 528\u001b[0m     dialect \u001b[38;5;241m=\u001b[39m \u001b[43mget_bind\u001b[49m\u001b[43m(\u001b[49m\u001b[43mmixed\u001b[49m\u001b[43m)\u001b[49m\u001b[38;5;241m.\u001b[39mdialect\n\u001b[0;32m    529\u001b[0m \u001b[38;5;28;01mreturn\u001b[39;00m dialect\u001b[38;5;241m.\u001b[39mpreparer(dialect)\u001b[38;5;241m.\u001b[39mquote(ident)\n",
      "File \u001b[1;32m~\\AppData\\Local\\pypoetry\\Cache\\virtualenvs\\sequence-runtime-KLYiVDKf-py3.11\\Lib\\site-packages\\sqlalchemy_utils\\functions\\orm.py:339\u001b[0m, in \u001b[0;36mget_bind\u001b[1;34m(obj)\u001b[0m\n\u001b[0;32m    336\u001b[0m         conn \u001b[38;5;241m=\u001b[39m obj\n\u001b[0;32m    338\u001b[0m \u001b[38;5;28;01mif\u001b[39;00m \u001b[38;5;129;01mnot\u001b[39;00m \u001b[38;5;28mhasattr\u001b[39m(conn, \u001b[38;5;124m'\u001b[39m\u001b[38;5;124mexecute\u001b[39m\u001b[38;5;124m'\u001b[39m):\n\u001b[1;32m--> 339\u001b[0m     \u001b[38;5;28;01mraise\u001b[39;00m \u001b[38;5;167;01mTypeError\u001b[39;00m(\n\u001b[0;32m    340\u001b[0m         \u001b[38;5;124m'\u001b[39m\u001b[38;5;124mThis method accepts only Session, Engine, Connection and \u001b[39m\u001b[38;5;124m'\u001b[39m\n\u001b[0;32m    341\u001b[0m         \u001b[38;5;124m'\u001b[39m\u001b[38;5;124mdeclarative model objects.\u001b[39m\u001b[38;5;124m'\u001b[39m\n\u001b[0;32m    342\u001b[0m     )\n\u001b[0;32m    343\u001b[0m \u001b[38;5;28;01mreturn\u001b[39;00m conn\n",
      "\u001b[1;31mTypeError\u001b[0m: This method accepts only Session, Engine, Connection and declarative model objects."
     ]
    }
   ],
   "source": [
    "sqlalchemy_utils.create_database(\"postgresql+psycopg2://caqtus@localhost/test_database\")"
   ]
  }
 ],
 "metadata": {
  "kernelspec": {
   "display_name": "Python 3 (ipykernel)",
   "language": "python",
   "name": "python3"
  },
  "language_info": {
   "codemirror_mode": {
    "name": "ipython",
    "version": 3
   },
   "file_extension": ".py",
   "mimetype": "text/x-python",
   "name": "python",
   "nbconvert_exporter": "python",
   "pygments_lexer": "ipython3",
   "version": "3.11.1"
  }
 },
 "nbformat": 4,
 "nbformat_minor": 5
}
