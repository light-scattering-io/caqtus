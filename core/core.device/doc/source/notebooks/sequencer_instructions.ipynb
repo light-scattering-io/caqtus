{
 "cells": [
  {
   "cell_type": "markdown",
   "id": "ee90aaca-2994-4718-92d3-1111402db33f",
   "metadata": {},
   "source": [
    "# Sequencer instructions"
   ]
  },
  {
   "cell_type": "markdown",
   "id": "4bc13016-1fef-498c-8bb0-6eb04ac850e1",
   "metadata": {},
   "source": [
    "## Single channel"
   ]
  },
  {
   "cell_type": "markdown",
   "id": "53b6743e-2e95-4bdb-96da-aa9cfc3a3c56",
   "metadata": {},
   "source": [
    "The module `core.device.sequencer.instructions` provides instructions that can be used to generate complex time sequences. \n",
    "\n",
    "The compilation algorithm generates such instructions based on the user input. \n",
    "The instructions are then sent to the sequencer devices whose only role is to program these instructions in the hardware."
   ]
  },
  {
   "cell_type": "markdown",
   "id": "1b7f28ab-7668-4470-9ee0-3d959b1b42c7",
   "metadata": {},
   "source": [
    "The basic building block is a `Pattern` that can be used to explicitly represent an arbitrary sequence of values to be output on a sequencer for each timestep."
   ]
  },
  {
   "cell_type": "code",
   "execution_count": 1,
   "id": "e7d0a334-8ba3-4283-bb91-cb153fd43ceb",
   "metadata": {},
   "outputs": [
    {
     "data": {
      "image/png": "[encoded data removed]",
      "text/plain": [
       "<Figure size 640x480 with 1 Axes>"
      ]
     },
     "metadata": {},
     "output_type": "display_data"
    }
   ],
   "source": [
    "from core.device.sequencer.instructions import Pattern, convert_to_change_arrays\n",
    "import matplotlib.pyplot as plt\n",
    "\n",
    "pattern = Pattern([True, False, True, True, False])\n",
    "\n",
    "def plot_instruction(instruction):\n",
    "    times, values = convert_to_change_arrays(instruction)\n",
    "    plt.plot(times, values, drawstyle='steps-post')\n",
    "    plt.xlabel(\"Time [ticks]\")\n",
    "    plt.ylabel(\"Value\")\n",
    "\n",
    "plot_instruction(pattern)"
   ]
  },
  {
   "cell_type": "markdown",
   "id": "55a679e1-c606-4a9b-bad8-033a51a65226",
   "metadata": {},
   "source": [
    "Patterns can be combined by additioning or multiplying them, which allows to build complex instructions efficiently."
   ]
  },
  {
   "cell_type": "code",
   "execution_count": 2,
   "id": "b2c22ded731db140",
   "metadata": {
    "ExecuteTime": {
     "end_time": "2023-12-25T17:24:46.367996500Z",
     "start_time": "2023-12-25T17:24:46.363984700Z"
    },
    "collapsed": false,
    "jupyter": {
     "outputs_hidden": false
    }
   },
   "outputs": [
    {
     "data": {
      "image/png": "[encoded data removed]",
      "text/plain": [
       "<Figure size 640x480 with 1 Axes>"
      ]
     },
     "metadata": {},
     "output_type": "display_data"
    }
   ],
   "source": [
    "instr_1 = (\n",
    "    20 * Pattern([True])\n",
    "    + 30 * Pattern([False])\n",
    "    + 4 * (5 * Pattern([True]) + 5 * Pattern([False]))\n",
    "    + 10 * Pattern([False])\n",
    "    + 15 * Pattern([True])\n",
    "    + 15 * Pattern([False])\n",
    "    + 6 * Pattern([True, True, False])\n",
    "    + 30 * Pattern([False])\n",
    ")\n",
    "\n",
    "plot_instruction(instr_1)"
   ]
  },
  {
   "cell_type": "markdown",
   "id": "6c0a0ec1-2815-4d06-a194-b0c59e7dd4f0",
   "metadata": {},
   "source": [
    "All subclasses of `SequencerInstruction` (`Pattern`, `Concatenate` and `Repeat`) overloads `+` and `*` operators to easily combine instructions. \n",
    "\n",
    "Combining instructions with these operators will build a tree of operations but will never evaluate it unless explicitly asked."
   ]
  },
  {
   "cell_type": "code",
   "execution_count": 3,
   "id": "4ef3806e-afad-44e0-aa34-68ac58d24c5b",
   "metadata": {},
   "outputs": [
    {
     "data": {
      "text/plain": [
       "Concatenate(Repeat(repetitions=7, instruction=Pattern([True])), Repeat(repetitions=3, instruction=Pattern([False])))"
      ]
     },
     "execution_count": 3,
     "metadata": {},
     "output_type": "execute_result"
    }
   ],
   "source": [
    "instr_2 = 7 * Pattern([True]) + 3 * Pattern([False])\n",
    "instr_2"
   ]
  },
  {
   "cell_type": "markdown",
   "id": "4daa00d3-5680-4388-a510-5b8eabf2655f",
   "metadata": {},
   "source": [
    "If we want to convert the tree instruction to a flat representation, we can use the method `.to_pattern()`. "
   ]
  },
  {
   "cell_type": "code",
   "execution_count": 4,
   "id": "124ffbbf-7c94-45d3-8893-eed1b339a64b",
   "metadata": {},
   "outputs": [
    {
     "data": {
      "text/plain": [
       "Pattern([True, True, True, True, True, True, True, False, False, False])"
      ]
     },
     "execution_count": 4,
     "metadata": {},
     "output_type": "execute_result"
    }
   ],
   "source": [
    "instr_2.to_pattern()"
   ]
  },
  {
   "cell_type": "markdown",
   "id": "67cb7022-78d4-4f56-9326-7f86a975835b",
   "metadata": {},
   "source": [
    "It is however often much more convenient to work with the tree representation because it allows to represent instructions with many time steps very compactly."
   ]
  },
  {
   "cell_type": "markdown",
   "id": "b1d9bc3e-8bc2-4ec8-a9b9-7f5dc96315f4",
   "metadata": {},
   "source": [
    "## Combining channels"
   ]
  },
  {
   "cell_type": "markdown",
   "id": "a38e62ba-0590-4417-a8e2-6648da9263c2",
   "metadata": {},
   "source": [
    "Using the above techniques, it is possible to construct complex time sequence for a single output channel of a sequencer."
   ]
  },
  {
   "cell_type": "code",
   "execution_count": 5,
   "id": "25afcaeb-d75a-43d9-81d5-ee664ad60186",
   "metadata": {},
   "outputs": [],
   "source": [
    "from core.device.sequencer.instructions import with_name, stack_instructions\n",
    "\n",
    "clock_0 = Pattern([True, False]) * 15\n",
    "clock_1 = Pattern([True, True, False]) * 10\n",
    "\n",
    "toggle = Pattern([True]) * 10 + Pattern([False]) * 20"
   ]
  },
  {
   "cell_type": "code",
   "execution_count": 9,
   "id": "dbacb9f2-d4cc-47bd-b975-deee91615aa0",
   "metadata": {},
   "outputs": [],
   "source": [
    "stacked = stack_instructions(\n",
    "    [with_name(clock_0, \"ch 0\"),\n",
    "    with_name(clock_1, \"ch 1\"),\n",
    "    with_name(toggle, \"ch 2\"),\n",
    "    ]\n",
    ")"
   ]
  },
  {
   "cell_type": "code",
   "execution_count": null,
   "id": "7681be6e-bad1-47ce-b90f-2de608ef3b0a",
   "metadata": {},
   "outputs": [],
   "source": []
  }
 ],
 "metadata": {
  "kernelspec": {
   "display_name": "Python 3 (ipykernel)",
   "language": "python",
   "name": "python3"
  },
  "language_info": {
   "codemirror_mode": {
    "name": "ipython",
    "version": 3
   },
   "file_extension": ".py",
   "mimetype": "text/x-python",
   "name": "python",
   "nbconvert_exporter": "python",
   "pygments_lexer": "ipython3",
   "version": "3.11.1"
  },
  "widgets": {
   "application/vnd.jupyter.widget-state+json": {
    "state": {},
    "version_major": 2,
    "version_minor": 0
   }
  }
 },
 "nbformat": 4,
 "nbformat_minor": 5
}
