{
 "cells": [
  {
   "cell_type": "code",
   "execution_count": 1,
   "id": "d13c4f87",
   "metadata": {},
   "outputs": [],
   "source": [
    "from experiment.session import get_standard_experiment_session\n",
    "from experiment.configuration import ExperimentConfig\n",
    "from sequence.runtime import Sequence"
   ]
  },
  {
   "cell_type": "code",
   "execution_count": 2,
   "outputs": [],
   "source": [
    "session = get_standard_experiment_session()\n",
    "\n",
    "with session:\n",
    "    config_yaml = session.get_current_experiment_config_yaml()"
   ],
   "metadata": {
    "collapsed": false
   }
  },
  {
   "cell_type": "code",
   "execution_count": 3,
   "id": "f5732bdc",
   "metadata": {},
   "outputs": [],
   "source": [
    "with open(\"./configs/experiment_configs/test.yaml\", \"w\") as file:\n",
    "    file.write(config_yaml)"
   ]
  },
  {
   "cell_type": "code",
   "execution_count": 6,
   "id": "857cbd1b",
   "metadata": {},
   "outputs": [],
   "source": [
    "with open(\"configs/experiment_configs/test.yaml\", \"r\") as file:\n",
    "    yaml = file.read()\n",
    "    \n",
    "new_experiment_config = ExperimentConfig.from_yaml(yaml)"
   ]
  },
  {
   "cell_type": "code",
   "execution_count": 7,
   "outputs": [],
   "source": [
    "with session:\n",
    "    name = session.add_experiment_config(new_experiment_config)\n",
    "    session.set_current_experiment_config(name)\n"
   ],
   "metadata": {
    "collapsed": false
   }
  }
 ],
 "metadata": {
  "kernelspec": {
   "display_name": "Python 3 (ipykernel)",
   "language": "python",
   "name": "python3"
  },
  "language_info": {
   "codemirror_mode": {
    "name": "ipython",
    "version": 3
   },
   "file_extension": ".py",
   "mimetype": "text/x-python",
   "name": "python",
   "nbconvert_exporter": "python",
   "pygments_lexer": "ipython3",
   "version": "3.11.1"
  }
 },
 "nbformat": 4,
 "nbformat_minor": 5
}
