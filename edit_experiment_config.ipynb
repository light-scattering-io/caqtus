{
 "cells": [
  {
   "cell_type": "code",
   "execution_count": 1,
   "id": "d13c4f87",
   "metadata": {
    "ExecuteTime": {
     "end_time": "2023-05-15T21:07:38.233907400Z",
     "start_time": "2023-05-15T21:07:36.606838100Z"
    }
   },
   "outputs": [],
   "source": [
    "from experiment.session import get_standard_experiment_session\n",
    "from experiment.configuration import ExperimentConfig\n",
    "from sequence.runtime import Sequence\n"
   ]
  },
  {
   "cell_type": "code",
   "execution_count": 7,
   "id": "18b678be",
   "metadata": {
    "ExecuteTime": {
     "end_time": "2023-05-15T21:08:21.427763Z",
     "start_time": "2023-05-15T21:08:20.847905600Z"
    }
   },
   "outputs": [],
   "source": [
    "session = get_standard_experiment_session()\n",
    "\n",
    "with session:\n",
    "    config_yaml = session.get_current_experiment_config_yaml()"
   ]
  },
  {
   "cell_type": "code",
   "execution_count": 8,
   "id": "f5732bdc",
   "metadata": {
    "ExecuteTime": {
     "end_time": "2023-05-15T21:08:22.027838700Z",
     "start_time": "2023-05-15T21:08:22.020173500Z"
    }
   },
   "outputs": [],
   "source": [
    "with open(\"./configs/experiment_configs/test.yaml\", \"w\") as file:\n",
    "    file.write(config_yaml)"
   ]
  },
  {
   "cell_type": "code",
   "execution_count": 5,
   "id": "857cbd1b",
   "metadata": {
    "ExecuteTime": {
     "end_time": "2023-05-15T21:08:08.662041800Z",
     "start_time": "2023-05-15T21:08:08.525317400Z"
    }
   },
   "outputs": [],
   "source": [
    "with open(\"configs/experiment_configs/test.yaml\", \"r\") as file:\n",
    "    yaml = file.read()\n",
    "    \n",
    "new_experiment_config = ExperimentConfig.from_yaml(yaml)"
   ]
  },
  {
   "cell_type": "code",
   "execution_count": 6,
   "id": "212b1dc6",
   "metadata": {
    "ExecuteTime": {
     "end_time": "2023-05-15T21:08:18.790293200Z",
     "start_time": "2023-05-15T21:08:18.511618400Z"
    }
   },
   "outputs": [],
   "source": [
    "with session:\n",
    "    name = session.add_experiment_config(new_experiment_config)\n",
    "    session.set_current_experiment_config(name)\n"
   ]
  }
 ],
 "metadata": {
  "kernelspec": {
   "display_name": "Python 3 (ipykernel)",
   "language": "python",
   "name": "python3"
  },
  "language_info": {
   "codemirror_mode": {
    "name": "ipython",
    "version": 3
   },
   "file_extension": ".py",
   "mimetype": "text/x-python",
   "name": "python",
   "nbconvert_exporter": "python",
   "pygments_lexer": "ipython3",
   "version": "3.11.1"
  }
 },
 "nbformat": 4,
 "nbformat_minor": 5
}
