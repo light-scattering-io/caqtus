{
 "cells": [
  {
   "cell_type": "code",
   "execution_count": 1,
   "id": "d13c4f87",
   "metadata": {},
   "outputs": [],
   "source": [
    "from experiment.configuration import ExperimentConfig\n",
    "from experiment.session import get_standard_experiment_session\n"
   ]
  },
  {
   "cell_type": "code",
   "execution_count": 2,
   "outputs": [],
   "source": [
    "\n",
    "session = get_standard_experiment_session()\n",
    "\n",
    "with session:\n",
    "    config = session.get_current_experiment_config()\n"
   ],
   "metadata": {
    "collapsed": false,
    "ExecuteTime": {
     "end_time": "2023-07-18T15:52:44.288014200Z",
     "start_time": "2023-07-18T15:52:41.828159300Z"
    }
   }
  },
  {
   "cell_type": "code",
   "execution_count": 3,
   "outputs": [],
   "source": [
    "frequencies_x= [77000446.22293873, 79250553.38041864, 81500660.53789856, 83750767.69537847, 86000874.85285838]\n",
    "amplitudes_x = [6454.284743801089,5816.157558722016, 7474.554249262534, 5755.97176287821, 7088.695602001658]\n",
    "phases_x = [2.741850924835937, 1.3145083748276392, 6.170351129777032, 1.6014159109588775, 3.3156659532200905]\n",
    "\n",
    "frequencies_y = [72000430.22928502, 74250537.38676493, 76500644.54424484, 78750751.70172475, 81000858.85920466]\n",
    "amplitudes_y = [6329.462033845358, 6985.471503754264, 6528.282132774126, 7167.660391022301, 5646.461984837907]\n",
    "phases_y = [1.4037027695018902, 4.504049754538404, 0.13955130558174356, 4.1719161118531005, 5.614661290202681]\n",
    "\n",
    "sampling_rate = 625000000.0\n",
    "number_samples = 625248"
   ],
   "metadata": {
    "collapsed": false,
    "ExecuteTime": {
     "end_time": "2023-07-18T15:52:44.301156600Z",
     "start_time": "2023-07-18T15:52:44.294224600Z"
    }
   }
  },
  {
   "cell_type": "code",
   "execution_count": 7,
   "outputs": [],
   "source": [
    "from tweezer_arranger.configuration import AODTweezerConfiguration\n",
    "\n",
    "arranger_config = config.get_device_config(\"Tweezer arranger\")\n",
    "arranger_config[\"5x5 tweezers\"] = AODTweezerConfiguration(frequencies_x=frequencies_x,\n",
    "                                                          amplitudes_x=amplitudes_x,\n",
    "                                                          phases_x=phases_x,\n",
    "                                                          frequencies_y=frequencies_y,\n",
    "                                                          amplitudes_y=amplitudes_y,\n",
    "                                                          phases_y=phases_y,\n",
    "                                                          sampling_rate=sampling_rate,\n",
    "                                                          number_samples=number_samples)\n",
    "config.set_device_config(\"Tweezer arranger\", arranger_config)"
   ],
   "metadata": {
    "collapsed": false,
    "ExecuteTime": {
     "end_time": "2023-07-18T15:53:40.157927200Z",
     "start_time": "2023-07-18T15:53:40.154924Z"
    }
   }
  },
  {
   "cell_type": "code",
   "execution_count": 7,
   "id": "18b678be",
   "metadata": {
    "ExecuteTime": {
     "end_time": "2023-05-15T21:08:21.427763Z",
     "start_time": "2023-05-15T21:08:20.847905600Z"
    }
   },
   "outputs": [],
   "source": [
    "session = get_standard_experiment_session()\n",
    "\n",
    "with session:\n",
    "    config_yaml = session.get_current_experiment_config_yaml()"
   ]
  },
  {
   "cell_type": "code",
   "execution_count": 8,
   "id": "f5732bdc",
   "metadata": {
    "ExecuteTime": {
     "end_time": "2023-05-15T21:08:22.027838700Z",
     "start_time": "2023-05-15T21:08:22.020173500Z"
    }
   },
   "outputs": [],
   "source": [
    "with open(\"./configs/experiment_configs/test.yaml\", \"w\") as file:\n",
    "    file.write(config_yaml)"
   ]
  },
  {
   "cell_type": "code",
   "execution_count": 5,
   "id": "857cbd1b",
   "metadata": {
    "ExecuteTime": {
     "end_time": "2023-05-15T21:08:08.662041800Z",
     "start_time": "2023-05-15T21:08:08.525317400Z"
    }
   },
   "outputs": [],
   "source": [
    "with open(\"configs/experiment_configs/test.yaml\", \"r\") as file:\n",
    "    yaml = file.read()\n",
    "    \n",
    "new_experiment_config = ExperimentConfig.from_yaml(yaml)"
   ]
  },
  {
   "cell_type": "code",
   "execution_count": 8,
   "id": "212b1dc6",
   "metadata": {
    "ExecuteTime": {
     "end_time": "2023-07-18T15:53:42.977911800Z",
     "start_time": "2023-07-18T15:53:42.148394400Z"
    }
   },
   "outputs": [],
   "source": [
    "with session:\n",
    "    name = session.add_experiment_config(config)\n",
    "    session.set_current_experiment_config(name)\n"
   ]
  }
 ],
 "metadata": {
  "kernelspec": {
   "display_name": "Python 3 (ipykernel)",
   "language": "python",
   "name": "python3"
  },
  "language_info": {
   "codemirror_mode": {
    "name": "ipython",
    "version": 3
   },
   "file_extension": ".py",
   "mimetype": "text/x-python",
   "name": "python",
   "nbconvert_exporter": "python",
   "pygments_lexer": "ipython3",
   "version": "3.11.1"
  }
 },
 "nbformat": 4,
 "nbformat_minor": 5
}
