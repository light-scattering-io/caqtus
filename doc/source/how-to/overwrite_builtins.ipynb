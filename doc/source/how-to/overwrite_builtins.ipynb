{
 "cells": [
  {
   "metadata": {},
   "cell_type": "markdown",
   "source": [
    "# Overwrite builtin values in expressions\n",
    "\n",
    "It might happen that some useful functions are not defined in the expressions entered by the user.\n",
    "\n",
    "When a sequence is compiled, the evaluation of the expression will then raise an error:"
   ],
   "id": "412f286d2ab25c17"
  },
  {
   "metadata": {
    "ExecuteTime": {
     "end_time": "2024-10-25T14:19:04.631773Z",
     "start_time": "2024-10-25T14:19:04.603438Z"
    }
   },
   "cell_type": "code",
   "source": [
    "from caqtus.types.expression import Expression\n",
    "\n",
    "expr = Expression(\"erf(pi)\")\n",
    "expr.evaluate({})"
   ],
   "id": "b99622db361aa076",
   "outputs": [
    {
     "ename": "EvaluationError",
     "evalue": "Could not evaluate expression 'erf(pi)'",
     "output_type": "error",
     "traceback": [
      "\u001B[1;31m---------------------------------------------------------------------------\u001B[0m",
      "\u001B[1;31mNameError\u001B[0m                                 Traceback (most recent call last)",
      "File \u001B[1;32m~\\OneDrive\\Bureau\\caqtus_v2\\caqtus\\caqtus\\types\\expression\\_expression.py:161\u001B[0m, in \u001B[0;36mExpression._evaluate\u001B[1;34m(self, variables)\u001B[0m\n\u001B[0;32m    160\u001B[0m \u001B[38;5;28;01mtry\u001B[39;00m:\n\u001B[1;32m--> 161\u001B[0m     value \u001B[38;5;241m=\u001B[39m \u001B[38;5;28;43meval\u001B[39;49m\u001B[43m(\u001B[49m\u001B[38;5;28;43mself\u001B[39;49m\u001B[38;5;241;43m.\u001B[39;49m\u001B[43m_code\u001B[49m\u001B[43m,\u001B[49m\u001B[43m \u001B[49m\u001B[43m{\u001B[49m\u001B[38;5;124;43m\"\u001B[39;49m\u001B[38;5;124;43m__builtins__\u001B[39;49m\u001B[38;5;124;43m\"\u001B[39;49m\u001B[43m:\u001B[49m\u001B[43m \u001B[49m\u001B[38;5;28;43mself\u001B[39;49m\u001B[38;5;241;43m.\u001B[39;49m\u001B[43mbuiltins\u001B[49m\u001B[43m}\u001B[49m\u001B[43m,\u001B[49m\u001B[43m \u001B[49m\u001B[43mvariables\u001B[49m\u001B[43m)\u001B[49m\n\u001B[0;32m    162\u001B[0m \u001B[38;5;28;01mexcept\u001B[39;00m \u001B[38;5;167;01mException\u001B[39;00m \u001B[38;5;28;01mas\u001B[39;00m error:\n",
      "File \u001B[1;32m<string>:1\u001B[0m\n",
      "\u001B[1;31mNameError\u001B[0m: name 'erf' is not defined",
      "\nThe above exception was the direct cause of the following exception:\n",
      "\u001B[1;31mEvaluationError\u001B[0m                           Traceback (most recent call last)",
      "Cell \u001B[1;32mIn[2], line 4\u001B[0m\n\u001B[0;32m      1\u001B[0m \u001B[38;5;28;01mfrom\u001B[39;00m \u001B[38;5;21;01mcaqtus\u001B[39;00m\u001B[38;5;21;01m.\u001B[39;00m\u001B[38;5;21;01mtypes\u001B[39;00m\u001B[38;5;21;01m.\u001B[39;00m\u001B[38;5;21;01mexpression\u001B[39;00m \u001B[38;5;28;01mimport\u001B[39;00m Expression\n\u001B[0;32m      3\u001B[0m expr \u001B[38;5;241m=\u001B[39m Expression(\u001B[38;5;124m\"\u001B[39m\u001B[38;5;124merf(pi)\u001B[39m\u001B[38;5;124m\"\u001B[39m)\n\u001B[1;32m----> 4\u001B[0m \u001B[43mexpr\u001B[49m\u001B[38;5;241;43m.\u001B[39;49m\u001B[43mevaluate\u001B[49m\u001B[43m(\u001B[49m\u001B[43m{\u001B[49m\u001B[43m}\u001B[49m\u001B[43m)\u001B[49m\n",
      "File \u001B[1;32m~\\OneDrive\\Bureau\\caqtus_v2\\caqtus\\caqtus\\types\\expression\\_expression.py:123\u001B[0m, in \u001B[0;36mExpression.evaluate\u001B[1;34m(self, variables)\u001B[0m\n\u001B[0;32m    105\u001B[0m \u001B[38;5;28;01mdef\u001B[39;00m \u001B[38;5;21mevaluate\u001B[39m(\u001B[38;5;28mself\u001B[39m, variables: Mapping[DottedVariableName, Any]) \u001B[38;5;241m-\u001B[39m\u001B[38;5;241m>\u001B[39m Any:\n\u001B[0;32m    106\u001B[0m \u001B[38;5;250m    \u001B[39m\u001B[38;5;124;03m\"\"\"Evaluate an expression on specific values for its variables.\u001B[39;00m\n\u001B[0;32m    107\u001B[0m \n\u001B[0;32m    108\u001B[0m \u001B[38;5;124;03m    Args:\u001B[39;00m\n\u001B[1;32m   (...)\u001B[0m\n\u001B[0;32m    120\u001B[0m \u001B[38;5;124;03m        EvaluationError: if an error occurred during evaluation.\u001B[39;00m\n\u001B[0;32m    121\u001B[0m \u001B[38;5;124;03m    \"\"\"\u001B[39;00m\n\u001B[1;32m--> 123\u001B[0m     \u001B[38;5;28;01mreturn\u001B[39;00m \u001B[38;5;28;43mself\u001B[39;49m\u001B[38;5;241;43m.\u001B[39;49m\u001B[43m_evaluate\u001B[49m\u001B[43m(\u001B[49m\u001B[43m{\u001B[49m\u001B[38;5;28;43mstr\u001B[39;49m\u001B[43m(\u001B[49m\u001B[43mexpr\u001B[49m\u001B[43m)\u001B[49m\u001B[43m:\u001B[49m\u001B[43m \u001B[49m\u001B[43mvariables\u001B[49m\u001B[43m[\u001B[49m\u001B[43mexpr\u001B[49m\u001B[43m]\u001B[49m\u001B[43m \u001B[49m\u001B[38;5;28;43;01mfor\u001B[39;49;00m\u001B[43m \u001B[49m\u001B[43mexpr\u001B[49m\u001B[43m \u001B[49m\u001B[38;5;129;43;01min\u001B[39;49;00m\u001B[43m \u001B[49m\u001B[43mvariables\u001B[49m\u001B[43m}\u001B[49m\u001B[43m)\u001B[49m\n",
      "File \u001B[1;32m~\\OneDrive\\Bureau\\caqtus_v2\\caqtus\\caqtus\\types\\expression\\_expression.py:163\u001B[0m, in \u001B[0;36mExpression._evaluate\u001B[1;34m(self, variables)\u001B[0m\n\u001B[0;32m    161\u001B[0m     value \u001B[38;5;241m=\u001B[39m \u001B[38;5;28meval\u001B[39m(\u001B[38;5;28mself\u001B[39m\u001B[38;5;241m.\u001B[39m_code, {\u001B[38;5;124m\"\u001B[39m\u001B[38;5;124m__builtins__\u001B[39m\u001B[38;5;124m\"\u001B[39m: \u001B[38;5;28mself\u001B[39m\u001B[38;5;241m.\u001B[39mbuiltins}, variables)\n\u001B[0;32m    162\u001B[0m \u001B[38;5;28;01mexcept\u001B[39;00m \u001B[38;5;167;01mException\u001B[39;00m \u001B[38;5;28;01mas\u001B[39;00m error:\n\u001B[1;32m--> 163\u001B[0m     \u001B[38;5;28;01mraise\u001B[39;00m EvaluationError(\n\u001B[0;32m    164\u001B[0m         \u001B[38;5;124mf\u001B[39m\u001B[38;5;124m\"\u001B[39m\u001B[38;5;124mCould not evaluate \u001B[39m\u001B[38;5;132;01m{\u001B[39;00mfmt\u001B[38;5;241m.\u001B[39mexpression(\u001B[38;5;28mself\u001B[39m)\u001B[38;5;132;01m}\u001B[39;00m\u001B[38;5;124m\"\u001B[39m\n\u001B[0;32m    165\u001B[0m     ) \u001B[38;5;28;01mfrom\u001B[39;00m \u001B[38;5;21;01merror\u001B[39;00m\n\u001B[0;32m    166\u001B[0m \u001B[38;5;28;01mreturn\u001B[39;00m value\n",
      "\u001B[1;31mEvaluationError\u001B[0m: Could not evaluate expression 'erf(pi)'"
     ]
    }
   ],
   "execution_count": 2
  },
  {
   "metadata": {},
   "cell_type": "markdown",
   "source": [
    "To make new functions or constants available, you can override the expression builtins variable.\n",
    "\n",
    "This must be done before the experiment manager is launched."
   ],
   "id": "34bf76a8ee032c26"
  },
  {
   "metadata": {
    "ExecuteTime": {
     "end_time": "2024-10-25T14:24:43.139776Z",
     "start_time": "2024-10-25T14:24:43.136190Z"
    }
   },
   "cell_type": "code",
   "source": [
    "from caqtus.types.expression import expression_builtins, DEFAULT_BUILTINS\n",
    "import scipy.special\n",
    "\n",
    "expression_builtins.set({**DEFAULT_BUILTINS, \"erf\": scipy.special.erf});"
   ],
   "id": "fb5713134897cb1e",
   "outputs": [],
   "execution_count": 6
  },
  {
   "metadata": {},
   "cell_type": "markdown",
   "source": "Now the builtins have been updated to include the `erf` function and the previous expression evaluates correctly: ",
   "id": "bdfa3bc50524a21d"
  },
  {
   "metadata": {
    "ExecuteTime": {
     "end_time": "2024-10-25T14:24:26.956930Z",
     "start_time": "2024-10-25T14:24:26.952130Z"
    }
   },
   "cell_type": "code",
   "source": "expr.evaluate({})",
   "id": "2c7eb8dd4a8ed991",
   "outputs": [
    {
     "data": {
      "text/plain": [
       "np.float64(0.9999911238536323)"
      ]
     },
     "execution_count": 5,
     "metadata": {},
     "output_type": "execute_result"
    }
   ],
   "execution_count": 5
  }
 ],
 "metadata": {
  "kernelspec": {
   "display_name": "Python 3",
   "language": "python",
   "name": "python3"
  },
  "language_info": {
   "codemirror_mode": {
    "name": "ipython",
    "version": 2
   },
   "file_extension": ".py",
   "mimetype": "text/x-python",
   "name": "python",
   "nbconvert_exporter": "python",
   "pygments_lexer": "ipython2",
   "version": "2.7.6"
  }
 },
 "nbformat": 4,
 "nbformat_minor": 5
}
