{
 "cells": [
  {
   "cell_type": "markdown",
   "id": "ee90aaca-2994-4718-92d3-1111402db33f",
   "metadata": {},
   "source": [
    "# Sequencer instructions"
   ]
  },
  {
   "cell_type": "markdown",
   "id": "4bc13016-1fef-498c-8bb0-6eb04ac850e1",
   "metadata": {},
   "source": [
    "## Single channel"
   ]
  },
  {
   "cell_type": "markdown",
   "id": "53b6743e-2e95-4bdb-96da-aa9cfc3a3c56",
   "metadata": {},
   "source": [
    "The module `core.device.sequencer.instructions` provides instructions that can be used to generate complex time sequences. \n",
    "\n",
    "The compilation algorithm generates such instructions based on the user input. \n",
    "The instructions are then sent to the sequencer devices whose only role is to program these instructions in the hardware."
   ]
  },
  {
   "cell_type": "markdown",
   "id": "1b7f28ab-7668-4470-9ee0-3d959b1b42c7",
   "metadata": {},
   "source": [
    "The basic building block is a `Pattern` that can be used to explicitly represent an arbitrary sequence of values to be output on a sequencer for each timestep."
   ]
  },
  {
   "cell_type": "code",
   "execution_count": 1,
   "id": "e7d0a334-8ba3-4283-bb91-cb153fd43ceb",
   "metadata": {},
   "source": [
    "import matplotlib.pyplot as plt\n",
    "\n",
    "from core.device.sequencer.instructions import Pattern, convert_to_change_arrays\n",
    "\n",
    "pattern = Pattern([True, False, True, True, False])\n",
    "\n",
    "\n",
    "def plot_instruction(instruction):\n",
    "    times, values = convert_to_change_arrays(instruction)\n",
    "    plt.plot(times, values, drawstyle=\"steps-post\")\n",
    "    plt.xlabel(\"Time [ticks]\")\n",
    "    plt.ylabel(\"Value\")\n",
    "\n",
    "\n",
    "plot_instruction(pattern)"
   ],
   "outputs": []
  },
  {
   "cell_type": "markdown",
   "id": "55a679e1-c606-4a9b-bad8-033a51a65226",
   "metadata": {},
   "source": [
    "Patterns can be combined by concatenating or repeating them, which allows to build complex instructions easily."
   ]
  },
  {
   "cell_type": "code",
   "execution_count": 2,
   "id": "b2c22ded731db140",
   "metadata": {
    "ExecuteTime": {
     "end_time": "2023-12-25T17:24:46.367996500Z",
     "start_time": "2023-12-25T17:24:46.363984700Z"
    },
    "collapsed": false,
    "jupyter": {
     "outputs_hidden": false
    }
   },
   "source": [
    "instr_1 = (\n",
    "    20 * Pattern([True])\n",
    "    + 30 * Pattern([False])\n",
    "    + 4 * (5 * Pattern([True]) + 5 * Pattern([False]))\n",
    "    + 10 * Pattern([False])\n",
    "    + 15 * Pattern([True])\n",
    "    + 15 * Pattern([False])\n",
    "    + 6 * Pattern([True, True, False])\n",
    "    + 30 * Pattern([False])\n",
    ")\n",
    "\n",
    "plot_instruction(instr_1)"
   ],
   "outputs": []
  },
  {
   "cell_type": "markdown",
   "id": "6c0a0ec1-2815-4d06-a194-b0c59e7dd4f0",
   "metadata": {},
   "source": [
    "All subclasses of `SequencerInstruction` (`Pattern`, `Concatenate` and `Repeat`) overloads `+` and `*` operators to easily combine instructions. \n",
    "\n",
    "Combining instructions with these operators will build a tree of operations but will never evaluate it unless explicitly asked."
   ]
  },
  {
   "cell_type": "code",
   "execution_count": 3,
   "id": "4ef3806e-afad-44e0-aa34-68ac58d24c5b",
   "metadata": {},
   "source": [
    "instr_2 = 7 * Pattern([True]) + 3 * Pattern([False])\n",
    "instr_2"
   ],
   "outputs": []
  },
  {
   "cell_type": "markdown",
   "id": "4daa00d3-5680-4388-a510-5b8eabf2655f",
   "metadata": {},
   "source": [
    "If one wants to convert the tree instruction to a flat representation, they can use the method `.to_pattern()`. "
   ]
  },
  {
   "cell_type": "code",
   "execution_count": 4,
   "id": "124ffbbf-7c94-45d3-8893-eed1b339a64b",
   "metadata": {},
   "source": [
    "instr_2.to_pattern()"
   ],
   "outputs": []
  },
  {
   "cell_type": "markdown",
   "id": "67cb7022-78d4-4f56-9326-7f86a975835b",
   "metadata": {},
   "source": [
    "It is however often much more efficient to work with the tree representation because it allows to represent instructions with many time steps very compactly."
   ]
  },
  {
   "cell_type": "markdown",
   "id": "b1d9bc3e-8bc2-4ec8-a9b9-7f5dc96315f4",
   "metadata": {},
   "source": [
    "## Combining channels"
   ]
  },
  {
   "cell_type": "markdown",
   "id": "a38e62ba-0590-4417-a8e2-6648da9263c2",
   "metadata": {},
   "source": [
    "Using the above techniques, it is possible to construct complex time sequence for a single output channel of a sequencer.\n",
    "\n",
    "The compilation algorithm will compute an instruction for each channel of a given sequencer device.\n",
    "However, it is difficult to program them directly to the device, because the channels can have different operation trees.\n",
    "\n",
    "For example, one might want to have a clock with a periodicity of 2 ticks on the first channel, a clock with a periodicity of 3 ticks on the second one and just a single on/off toggle on the third one:"
   ]
  },
  {
   "cell_type": "code",
   "execution_count": 5,
   "id": "25afcaeb-d75a-43d9-81d5-ee664ad60186",
   "metadata": {},
   "source": [
    "clock_0 = Pattern([True, False]) * 30\n",
    "clock_1 = Pattern([True, True, False]) * 20\n",
    "\n",
    "toggle = Pattern([True]) * 35 + Pattern([False]) * 25\n",
    "\n",
    "print(clock_0.as_type(int))\n",
    "print(clock_1.as_type(int))\n",
    "print(toggle.as_type(int))"
   ],
   "outputs": []
  },
  {
   "cell_type": "markdown",
   "id": "057756d6-a4e9-4e09-83b7-1f7c8ace6a06",
   "metadata": {},
   "source": [
    "The function `stack_instructions` can be used to find a common tree representation of multiple instructions having all the same length:"
   ]
  },
  {
   "cell_type": "code",
   "execution_count": 6,
   "id": "dbacb9f2-d4cc-47bd-b975-deee91615aa0",
   "metadata": {},
   "source": [
    "from core.device.sequencer.instructions import stack_instructions, with_name\n",
    "\n",
    "stacked = stack_instructions(\n",
    "    [\n",
    "        with_name(clock_0, \"clock 0\"),\n",
    "        with_name(clock_1, \"clock 1\"),\n",
    "        with_name(toggle, \"toggle\"),\n",
    "    ]\n",
    ")\n",
    "\n",
    "print(stacked[\"clock 0\"].as_type(int))\n",
    "print(stacked[\"clock 1\"].as_type(int))\n",
    "print(stacked[\"toggle\"].as_type(int))"
   ],
   "outputs": []
  },
  {
   "cell_type": "markdown",
   "id": "0684e38a-5567-43bf-b449-04ea11b3cad1",
   "metadata": {},
   "source": [
    "Note: `stack_instructions` will always return a result where each field is equivalent to the one passed in argument, but it might not compute the most compact representation. \n",
    "In the worst cases, this function may flatten completely the instruction trees passed."
   ]
  },
  {
   "cell_type": "markdown",
   "id": "ceb24ffb-6c60-4877-a6f8-d821e950ec0d",
   "metadata": {},
   "source": [
    "## Walking the tree\n",
    "\n",
    "A common operation is to execute a function for each node of the tree recursively.\n",
    "An approach that works in most cases it to use pattern matching with `match`:"
   ]
  },
  {
   "cell_type": "code",
   "execution_count": 12,
   "id": "5e2bb28a-6d51-4018-8d5c-3d394cb7c1d1",
   "metadata": {},
   "source": [
    "from core.device.sequencer.instructions import (\n",
    "    Concatenate,\n",
    "    Pattern,\n",
    "    Repeat,\n",
    "    SequencerInstruction,\n",
    ")\n",
    "\n",
    "\n",
    "def number_operations(instruction: SequencerInstruction) -> int:\n",
    "    \"\"\"Counts the number of + or * in an instruction\"\"\"\n",
    "\n",
    "    match instruction:\n",
    "        case Pattern():\n",
    "            return 0\n",
    "        case Concatenate(instructions):\n",
    "            return (\n",
    "                len(instructions)\n",
    "                - 1\n",
    "                + sum(number_operations(instruction) for instruction in instructions)\n",
    "            )\n",
    "        case Repeat(repetitions=repetitions, instruction=repeated):\n",
    "            return 1 + number_operations(repeated)\n",
    "\n",
    "\n",
    "number_operations(stacked)"
   ],
   "outputs": []
  }
 ],
 "metadata": {
  "kernelspec": {
   "display_name": "Python 3 (ipykernel)",
   "language": "python",
   "name": "python3"
  },
  "language_info": {
   "codemirror_mode": {
    "name": "ipython",
    "version": 3
   },
   "file_extension": ".py",
   "mimetype": "text/x-python",
   "name": "python",
   "nbconvert_exporter": "python",
   "pygments_lexer": "ipython3",
   "version": "3.11.1"
  },
  "widgets": {
   "application/vnd.jupyter.widget-state+json": {
    "state": {},
    "version_major": 2,
    "version_minor": 0
   }
  }
 },
 "nbformat": 4,
 "nbformat_minor": 5
}
